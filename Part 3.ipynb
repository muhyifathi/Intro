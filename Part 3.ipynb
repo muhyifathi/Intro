{
 "cells": [
  {
   "cell_type": "markdown",
   "metadata": {},
   "source": [
    "# Outline\n",
    "1. import data\n",
    "2. Pembuatan Peubah Dummy\n",
    "3. Pembagian data (training testing)\n",
    "4. Modeling\n",
    "5. Prediksi Data Test"
   ]
  },
  {
   "cell_type": "markdown",
   "metadata": {},
   "source": [
    "## 1. Import Data"
   ]
  },
  {
   "cell_type": "code",
   "execution_count": 2,
   "metadata": {
    "collapsed": true
   },
   "outputs": [],
   "source": [
    "import pandas as pd\n",
    "import numpy as np"
   ]
  },
  {
   "cell_type": "code",
   "execution_count": 3,
   "metadata": {
    "collapsed": true
   },
   "outputs": [],
   "source": [
    "datatree_label = pd.read_csv('datatree_label.csv')\n",
    "datatree_nolabel = pd.read_csv('datatree_nolabel.csv') "
   ]
  },
  {
   "cell_type": "code",
   "execution_count": 4,
   "metadata": {
    "collapsed": false
   },
   "outputs": [
    {
     "data": {
      "text/html": [
       "<div>\n",
       "<table border=\"1\" class=\"dataframe\">\n",
       "  <thead>\n",
       "    <tr style=\"text-align: right;\">\n",
       "      <th></th>\n",
       "      <th>ID Nasabah</th>\n",
       "      <th>Jenis Kelamin</th>\n",
       "      <th>Single</th>\n",
       "      <th>Tinggal di Kota</th>\n",
       "      <th>usia</th>\n",
       "      <th>Perokok</th>\n",
       "      <th>Budget</th>\n",
       "      <th>Kesukaan</th>\n",
       "      <th>Tertarik Beli?</th>\n",
       "    </tr>\n",
       "  </thead>\n",
       "  <tbody>\n",
       "    <tr>\n",
       "      <th>0</th>\n",
       "      <td>609</td>\n",
       "      <td>1</td>\n",
       "      <td>1</td>\n",
       "      <td>0</td>\n",
       "      <td>39</td>\n",
       "      <td>0</td>\n",
       "      <td>medium</td>\n",
       "      <td>Tekno</td>\n",
       "      <td>1</td>\n",
       "    </tr>\n",
       "    <tr>\n",
       "      <th>1</th>\n",
       "      <td>424</td>\n",
       "      <td>1</td>\n",
       "      <td>1</td>\n",
       "      <td>0</td>\n",
       "      <td>39</td>\n",
       "      <td>0</td>\n",
       "      <td>medium</td>\n",
       "      <td>Tekno</td>\n",
       "      <td>1</td>\n",
       "    </tr>\n",
       "    <tr>\n",
       "      <th>2</th>\n",
       "      <td>983</td>\n",
       "      <td>0</td>\n",
       "      <td>1</td>\n",
       "      <td>1</td>\n",
       "      <td>39</td>\n",
       "      <td>0</td>\n",
       "      <td>low</td>\n",
       "      <td>Seni</td>\n",
       "      <td>0</td>\n",
       "    </tr>\n",
       "    <tr>\n",
       "      <th>3</th>\n",
       "      <td>520</td>\n",
       "      <td>1</td>\n",
       "      <td>1</td>\n",
       "      <td>0</td>\n",
       "      <td>32</td>\n",
       "      <td>1</td>\n",
       "      <td>low</td>\n",
       "      <td>Seni</td>\n",
       "      <td>1</td>\n",
       "    </tr>\n",
       "    <tr>\n",
       "      <th>4</th>\n",
       "      <td>868</td>\n",
       "      <td>1</td>\n",
       "      <td>1</td>\n",
       "      <td>0</td>\n",
       "      <td>38</td>\n",
       "      <td>0</td>\n",
       "      <td>low</td>\n",
       "      <td>Tekno</td>\n",
       "      <td>0</td>\n",
       "    </tr>\n",
       "  </tbody>\n",
       "</table>\n",
       "</div>"
      ],
      "text/plain": [
       "   ID Nasabah  Jenis Kelamin  Single  Tinggal di Kota  usia  Perokok  Budget  \\\n",
       "0         609              1       1                0    39        0  medium   \n",
       "1         424              1       1                0    39        0  medium   \n",
       "2         983              0       1                1    39        0     low   \n",
       "3         520              1       1                0    32        1     low   \n",
       "4         868              1       1                0    38        0     low   \n",
       "\n",
       "  Kesukaan  Tertarik Beli?  \n",
       "0    Tekno               1  \n",
       "1    Tekno               1  \n",
       "2     Seni               0  \n",
       "3     Seni               1  \n",
       "4    Tekno               0  "
      ]
     },
     "execution_count": 4,
     "metadata": {},
     "output_type": "execute_result"
    }
   ],
   "source": [
    "datatree_label.head()"
   ]
  },
  {
   "cell_type": "code",
   "execution_count": 5,
   "metadata": {
    "collapsed": false
   },
   "outputs": [
    {
     "data": {
      "text/html": [
       "<div>\n",
       "<table border=\"1\" class=\"dataframe\">\n",
       "  <thead>\n",
       "    <tr style=\"text-align: right;\">\n",
       "      <th></th>\n",
       "      <th>ID Nasabah</th>\n",
       "      <th>Jenis Kelamin</th>\n",
       "      <th>Single</th>\n",
       "      <th>Tinggal di Kota</th>\n",
       "      <th>usia</th>\n",
       "      <th>Perokok</th>\n",
       "      <th>Budget</th>\n",
       "      <th>Kesukaan</th>\n",
       "    </tr>\n",
       "  </thead>\n",
       "  <tbody>\n",
       "    <tr>\n",
       "      <th>0</th>\n",
       "      <td>436</td>\n",
       "      <td>1</td>\n",
       "      <td>1</td>\n",
       "      <td>1</td>\n",
       "      <td>34</td>\n",
       "      <td>0</td>\n",
       "      <td>medium</td>\n",
       "      <td>Busana</td>\n",
       "    </tr>\n",
       "    <tr>\n",
       "      <th>1</th>\n",
       "      <td>403</td>\n",
       "      <td>0</td>\n",
       "      <td>1</td>\n",
       "      <td>0</td>\n",
       "      <td>33</td>\n",
       "      <td>0</td>\n",
       "      <td>low</td>\n",
       "      <td>Tekno</td>\n",
       "    </tr>\n",
       "    <tr>\n",
       "      <th>2</th>\n",
       "      <td>119</td>\n",
       "      <td>0</td>\n",
       "      <td>1</td>\n",
       "      <td>0</td>\n",
       "      <td>38</td>\n",
       "      <td>1</td>\n",
       "      <td>low</td>\n",
       "      <td>Tekno</td>\n",
       "    </tr>\n",
       "    <tr>\n",
       "      <th>3</th>\n",
       "      <td>565</td>\n",
       "      <td>1</td>\n",
       "      <td>1</td>\n",
       "      <td>1</td>\n",
       "      <td>32</td>\n",
       "      <td>0</td>\n",
       "      <td>medium</td>\n",
       "      <td>Seni</td>\n",
       "    </tr>\n",
       "    <tr>\n",
       "      <th>4</th>\n",
       "      <td>281</td>\n",
       "      <td>0</td>\n",
       "      <td>0</td>\n",
       "      <td>0</td>\n",
       "      <td>29</td>\n",
       "      <td>0</td>\n",
       "      <td>low</td>\n",
       "      <td>Tekno</td>\n",
       "    </tr>\n",
       "  </tbody>\n",
       "</table>\n",
       "</div>"
      ],
      "text/plain": [
       "   ID Nasabah  Jenis Kelamin  Single  Tinggal di Kota  usia  Perokok  Budget  \\\n",
       "0         436              1       1                1    34        0  medium   \n",
       "1         403              0       1                0    33        0     low   \n",
       "2         119              0       1                0    38        1     low   \n",
       "3         565              1       1                1    32        0  medium   \n",
       "4         281              0       0                0    29        0     low   \n",
       "\n",
       "  Kesukaan  \n",
       "0   Busana  \n",
       "1    Tekno  \n",
       "2    Tekno  \n",
       "3     Seni  \n",
       "4    Tekno  "
      ]
     },
     "execution_count": 5,
     "metadata": {},
     "output_type": "execute_result"
    }
   ],
   "source": [
    "datatree_nolabel.head()"
   ]
  },
  {
   "cell_type": "markdown",
   "metadata": {},
   "source": [
    "## 2. Pembuatan Pubah dummy"
   ]
  },
  {
   "cell_type": "markdown",
   "metadata": {},
   "source": [
    "samakan struktur"
   ]
  },
  {
   "cell_type": "code",
   "execution_count": 6,
   "metadata": {
    "collapsed": false
   },
   "outputs": [],
   "source": [
    "datatree_nolabel['Tertarik Beli?'] = 9999"
   ]
  },
  {
   "cell_type": "code",
   "execution_count": 7,
   "metadata": {
    "collapsed": false
   },
   "outputs": [
    {
     "data": {
      "text/html": [
       "<div>\n",
       "<table border=\"1\" class=\"dataframe\">\n",
       "  <thead>\n",
       "    <tr style=\"text-align: right;\">\n",
       "      <th></th>\n",
       "      <th>ID Nasabah</th>\n",
       "      <th>Jenis Kelamin</th>\n",
       "      <th>Single</th>\n",
       "      <th>Tinggal di Kota</th>\n",
       "      <th>usia</th>\n",
       "      <th>Perokok</th>\n",
       "      <th>Budget</th>\n",
       "      <th>Kesukaan</th>\n",
       "      <th>Tertarik Beli?</th>\n",
       "    </tr>\n",
       "  </thead>\n",
       "  <tbody>\n",
       "    <tr>\n",
       "      <th>0</th>\n",
       "      <td>436</td>\n",
       "      <td>1</td>\n",
       "      <td>1</td>\n",
       "      <td>1</td>\n",
       "      <td>34</td>\n",
       "      <td>0</td>\n",
       "      <td>medium</td>\n",
       "      <td>Busana</td>\n",
       "      <td>9999</td>\n",
       "    </tr>\n",
       "    <tr>\n",
       "      <th>1</th>\n",
       "      <td>403</td>\n",
       "      <td>0</td>\n",
       "      <td>1</td>\n",
       "      <td>0</td>\n",
       "      <td>33</td>\n",
       "      <td>0</td>\n",
       "      <td>low</td>\n",
       "      <td>Tekno</td>\n",
       "      <td>9999</td>\n",
       "    </tr>\n",
       "    <tr>\n",
       "      <th>2</th>\n",
       "      <td>119</td>\n",
       "      <td>0</td>\n",
       "      <td>1</td>\n",
       "      <td>0</td>\n",
       "      <td>38</td>\n",
       "      <td>1</td>\n",
       "      <td>low</td>\n",
       "      <td>Tekno</td>\n",
       "      <td>9999</td>\n",
       "    </tr>\n",
       "    <tr>\n",
       "      <th>3</th>\n",
       "      <td>565</td>\n",
       "      <td>1</td>\n",
       "      <td>1</td>\n",
       "      <td>1</td>\n",
       "      <td>32</td>\n",
       "      <td>0</td>\n",
       "      <td>medium</td>\n",
       "      <td>Seni</td>\n",
       "      <td>9999</td>\n",
       "    </tr>\n",
       "    <tr>\n",
       "      <th>4</th>\n",
       "      <td>281</td>\n",
       "      <td>0</td>\n",
       "      <td>0</td>\n",
       "      <td>0</td>\n",
       "      <td>29</td>\n",
       "      <td>0</td>\n",
       "      <td>low</td>\n",
       "      <td>Tekno</td>\n",
       "      <td>9999</td>\n",
       "    </tr>\n",
       "  </tbody>\n",
       "</table>\n",
       "</div>"
      ],
      "text/plain": [
       "   ID Nasabah  Jenis Kelamin  Single  Tinggal di Kota  usia  Perokok  Budget  \\\n",
       "0         436              1       1                1    34        0  medium   \n",
       "1         403              0       1                0    33        0     low   \n",
       "2         119              0       1                0    38        1     low   \n",
       "3         565              1       1                1    32        0  medium   \n",
       "4         281              0       0                0    29        0     low   \n",
       "\n",
       "  Kesukaan  Tertarik Beli?  \n",
       "0   Busana            9999  \n",
       "1    Tekno            9999  \n",
       "2    Tekno            9999  \n",
       "3     Seni            9999  \n",
       "4    Tekno            9999  "
      ]
     },
     "execution_count": 7,
     "metadata": {},
     "output_type": "execute_result"
    }
   ],
   "source": [
    "datatree_nolabel.head()"
   ]
  },
  {
   "cell_type": "markdown",
   "metadata": {},
   "source": [
    "gabungkan kedua data"
   ]
  },
  {
   "cell_type": "code",
   "execution_count": 8,
   "metadata": {
    "collapsed": true
   },
   "outputs": [],
   "source": [
    "datatree = datatree_label.append(datatree_nolabel)"
   ]
  },
  {
   "cell_type": "code",
   "execution_count": 9,
   "metadata": {
    "collapsed": false
   },
   "outputs": [
    {
     "data": {
      "text/html": [
       "<div>\n",
       "<table border=\"1\" class=\"dataframe\">\n",
       "  <thead>\n",
       "    <tr style=\"text-align: right;\">\n",
       "      <th></th>\n",
       "      <th>ID Nasabah</th>\n",
       "      <th>Jenis Kelamin</th>\n",
       "      <th>Single</th>\n",
       "      <th>Tinggal di Kota</th>\n",
       "      <th>usia</th>\n",
       "      <th>Perokok</th>\n",
       "      <th>Budget</th>\n",
       "      <th>Kesukaan</th>\n",
       "      <th>Tertarik Beli?</th>\n",
       "    </tr>\n",
       "  </thead>\n",
       "  <tbody>\n",
       "    <tr>\n",
       "      <th>104</th>\n",
       "      <td>960</td>\n",
       "      <td>0</td>\n",
       "      <td>1</td>\n",
       "      <td>1</td>\n",
       "      <td>28</td>\n",
       "      <td>0</td>\n",
       "      <td>medium</td>\n",
       "      <td>Busana</td>\n",
       "      <td>9999</td>\n",
       "    </tr>\n",
       "    <tr>\n",
       "      <th>105</th>\n",
       "      <td>501</td>\n",
       "      <td>1</td>\n",
       "      <td>1</td>\n",
       "      <td>0</td>\n",
       "      <td>39</td>\n",
       "      <td>0</td>\n",
       "      <td>low</td>\n",
       "      <td>Lainnya</td>\n",
       "      <td>9999</td>\n",
       "    </tr>\n",
       "    <tr>\n",
       "      <th>106</th>\n",
       "      <td>231</td>\n",
       "      <td>0</td>\n",
       "      <td>1</td>\n",
       "      <td>0</td>\n",
       "      <td>34</td>\n",
       "      <td>0</td>\n",
       "      <td>high</td>\n",
       "      <td>Seni</td>\n",
       "      <td>9999</td>\n",
       "    </tr>\n",
       "    <tr>\n",
       "      <th>107</th>\n",
       "      <td>292</td>\n",
       "      <td>1</td>\n",
       "      <td>1</td>\n",
       "      <td>0</td>\n",
       "      <td>35</td>\n",
       "      <td>0</td>\n",
       "      <td>medium</td>\n",
       "      <td>Tekno</td>\n",
       "      <td>9999</td>\n",
       "    </tr>\n",
       "    <tr>\n",
       "      <th>108</th>\n",
       "      <td>481</td>\n",
       "      <td>1</td>\n",
       "      <td>1</td>\n",
       "      <td>0</td>\n",
       "      <td>37</td>\n",
       "      <td>0</td>\n",
       "      <td>low</td>\n",
       "      <td>Seni</td>\n",
       "      <td>9999</td>\n",
       "    </tr>\n",
       "  </tbody>\n",
       "</table>\n",
       "</div>"
      ],
      "text/plain": [
       "     ID Nasabah  Jenis Kelamin  Single  Tinggal di Kota  usia  Perokok  \\\n",
       "104         960              0       1                1    28        0   \n",
       "105         501              1       1                0    39        0   \n",
       "106         231              0       1                0    34        0   \n",
       "107         292              1       1                0    35        0   \n",
       "108         481              1       1                0    37        0   \n",
       "\n",
       "     Budget Kesukaan  Tertarik Beli?  \n",
       "104  medium   Busana            9999  \n",
       "105     low  Lainnya            9999  \n",
       "106    high     Seni            9999  \n",
       "107  medium    Tekno            9999  \n",
       "108     low     Seni            9999  "
      ]
     },
     "execution_count": 9,
     "metadata": {},
     "output_type": "execute_result"
    }
   ],
   "source": [
    "datatree.tail()"
   ]
  },
  {
   "cell_type": "markdown",
   "metadata": {},
   "source": [
    "pendefinisian data"
   ]
  },
  {
   "cell_type": "code",
   "execution_count": 10,
   "metadata": {
    "collapsed": true
   },
   "outputs": [],
   "source": [
    "## definisikan nilai-nilai pada peubah\n",
    "datatree['Jenis Kelamin'] = datatree['Jenis Kelamin'].map({1:'Laki-Laki',\n",
    "                                                           0:'Perempuan'})\n",
    "datatree['Single'] = datatree['Single'].map({1:'Single',\n",
    "                                             0:'Tidak Single'})\n",
    "datatree['Tinggal di Kota'] = datatree['Tinggal di Kota'].map({1:'Tinggal di kota',\n",
    "                                                               0:'Tinggal di pedesaan'})\n",
    "datatree['Perokok'] = datatree['Perokok'].map({1:'Perokok',\n",
    "                                               0:'Bukan Perokok'})"
   ]
  },
  {
   "cell_type": "markdown",
   "metadata": {},
   "source": [
    "### Eksplorasi Data"
   ]
  },
  {
   "cell_type": "code",
   "execution_count": 11,
   "metadata": {
    "collapsed": false
   },
   "outputs": [
    {
     "data": {
      "image/png": "[encoded data removed]",
      "text/plain": [
       "<matplotlib.figure.Figure at 0x1deaaea92b0>"
      ]
     },
     "metadata": {},
     "output_type": "display_data"
    }
   ],
   "source": [
    "# library untuk eksplorasi data\n",
    "import matplotlib.pyplot as plt\n",
    "import seaborn as sns\n",
    "\n",
    "# menghitung ukuran diagram pie\n",
    "size = [sum(datatree_label['Tertarik Beli?']),\n",
    "        len(datatree_label['Tertarik Beli?'])-sum(datatree_label['Tertarik Beli?'])]\n",
    "\n",
    "labels = ['tertarik beli','tidak tertarik']\n",
    "\n",
    "# memilih warna\n",
    "color = [\"skyblue\",\"dodgerblue\"]\n",
    "\n",
    "# diagram pie \n",
    "plt.pie(size,labels=labels,colors=color,autopct='%2.2f%%')\n",
    "\n",
    "plt.axis('equal')\n",
    "plt.show()"
   ]
  },
  {
   "cell_type": "code",
   "execution_count": 12,
   "metadata": {
    "collapsed": false
   },
   "outputs": [
    {
     "data": {
      "text/html": [
       "<div>\n",
       "<table border=\"1\" class=\"dataframe\">\n",
       "  <thead>\n",
       "    <tr style=\"text-align: right;\">\n",
       "      <th></th>\n",
       "      <th>ID Nasabah</th>\n",
       "      <th>Jenis Kelamin</th>\n",
       "      <th>Single</th>\n",
       "      <th>Tinggal di Kota</th>\n",
       "      <th>usia</th>\n",
       "      <th>Perokok</th>\n",
       "      <th>Budget</th>\n",
       "      <th>Kesukaan</th>\n",
       "      <th>Tertarik Beli?</th>\n",
       "    </tr>\n",
       "  </thead>\n",
       "  <tbody>\n",
       "    <tr>\n",
       "      <th>0</th>\n",
       "      <td>609</td>\n",
       "      <td>Laki-Laki</td>\n",
       "      <td>Single</td>\n",
       "      <td>Tinggal di pedesaan</td>\n",
       "      <td>39</td>\n",
       "      <td>Bukan Perokok</td>\n",
       "      <td>medium</td>\n",
       "      <td>Tekno</td>\n",
       "      <td>1</td>\n",
       "    </tr>\n",
       "    <tr>\n",
       "      <th>1</th>\n",
       "      <td>424</td>\n",
       "      <td>Laki-Laki</td>\n",
       "      <td>Single</td>\n",
       "      <td>Tinggal di pedesaan</td>\n",
       "      <td>39</td>\n",
       "      <td>Bukan Perokok</td>\n",
       "      <td>medium</td>\n",
       "      <td>Tekno</td>\n",
       "      <td>1</td>\n",
       "    </tr>\n",
       "    <tr>\n",
       "      <th>2</th>\n",
       "      <td>983</td>\n",
       "      <td>Perempuan</td>\n",
       "      <td>Single</td>\n",
       "      <td>Tinggal di kota</td>\n",
       "      <td>39</td>\n",
       "      <td>Bukan Perokok</td>\n",
       "      <td>low</td>\n",
       "      <td>Seni</td>\n",
       "      <td>0</td>\n",
       "    </tr>\n",
       "    <tr>\n",
       "      <th>3</th>\n",
       "      <td>520</td>\n",
       "      <td>Laki-Laki</td>\n",
       "      <td>Single</td>\n",
       "      <td>Tinggal di pedesaan</td>\n",
       "      <td>32</td>\n",
       "      <td>Perokok</td>\n",
       "      <td>low</td>\n",
       "      <td>Seni</td>\n",
       "      <td>1</td>\n",
       "    </tr>\n",
       "    <tr>\n",
       "      <th>4</th>\n",
       "      <td>868</td>\n",
       "      <td>Laki-Laki</td>\n",
       "      <td>Single</td>\n",
       "      <td>Tinggal di pedesaan</td>\n",
       "      <td>38</td>\n",
       "      <td>Bukan Perokok</td>\n",
       "      <td>low</td>\n",
       "      <td>Tekno</td>\n",
       "      <td>0</td>\n",
       "    </tr>\n",
       "  </tbody>\n",
       "</table>\n",
       "</div>"
      ],
      "text/plain": [
       "   ID Nasabah Jenis Kelamin  Single      Tinggal di Kota  usia        Perokok  \\\n",
       "0         609     Laki-Laki  Single  Tinggal di pedesaan    39  Bukan Perokok   \n",
       "1         424     Laki-Laki  Single  Tinggal di pedesaan    39  Bukan Perokok   \n",
       "2         983     Perempuan  Single      Tinggal di kota    39  Bukan Perokok   \n",
       "3         520     Laki-Laki  Single  Tinggal di pedesaan    32        Perokok   \n",
       "4         868     Laki-Laki  Single  Tinggal di pedesaan    38  Bukan Perokok   \n",
       "\n",
       "   Budget Kesukaan  Tertarik Beli?  \n",
       "0  medium    Tekno               1  \n",
       "1  medium    Tekno               1  \n",
       "2     low     Seni               0  \n",
       "3     low     Seni               1  \n",
       "4     low    Tekno               0  "
      ]
     },
     "execution_count": 12,
     "metadata": {},
     "output_type": "execute_result"
    }
   ],
   "source": [
    "datatree.head()"
   ]
  },
  {
   "cell_type": "markdown",
   "metadata": {},
   "source": [
    "pembuatan dummy"
   ]
  },
  {
   "cell_type": "code",
   "execution_count": 13,
   "metadata": {
    "collapsed": false
   },
   "outputs": [
    {
     "name": "stdout",
     "output_type": "stream",
     "text": [
      "peubah awal:\n",
      " ['ID Nasabah', 'Jenis Kelamin', 'Single', 'Tinggal di Kota', 'usia', 'Perokok', 'Budget', 'Kesukaan', 'Tertarik Beli?'] \n",
      "\n"
     ]
    }
   ],
   "source": [
    "print(\"peubah awal:\\n\", list(datatree),\"\\n\")"
   ]
  },
  {
   "cell_type": "code",
   "execution_count": 14,
   "metadata": {
    "collapsed": false
   },
   "outputs": [
    {
     "data": {
      "text/plain": [
       "['Jenis Kelamin', 'Single', 'Tinggal di Kota', 'Perokok', 'Budget', 'Kesukaan']"
      ]
     },
     "execution_count": 14,
     "metadata": {},
     "output_type": "execute_result"
    }
   ],
   "source": [
    "peubah = list(datatree)[1:4]+list(datatree)[5:8]\n",
    "peubah"
   ]
  },
  {
   "cell_type": "code",
   "execution_count": 15,
   "metadata": {
    "collapsed": false
   },
   "outputs": [
    {
     "name": "stdout",
     "output_type": "stream",
     "text": [
      "peubah setelah dummy dibuat:\n",
      " ['ID Nasabah', 'usia', 'Tertarik Beli?', 'Jenis Kelamin_Perempuan', 'Single_Tidak Single', 'Tinggal di Kota_Tinggal di pedesaan', 'Perokok_Perokok', 'Budget_low', 'Budget_medium', 'Kesukaan_Lainnya', 'Kesukaan_Seni', 'Kesukaan_Tekno'] \n",
      "\n"
     ]
    }
   ],
   "source": [
    "# pembuatan peubah boneka secara otomatis untuk semua peubah kategorik\n",
    "datatree_dummies = pd.get_dummies(datatree,drop_first=True,columns=peubah)\n",
    "print(\"peubah setelah dummy dibuat:\\n\", list(datatree_dummies),\"\\n\")"
   ]
  },
  {
   "cell_type": "markdown",
   "metadata": {},
   "source": [
    "pemisahan kembali"
   ]
  },
  {
   "cell_type": "code",
   "execution_count": 16,
   "metadata": {
    "collapsed": false
   },
   "outputs": [],
   "source": [
    "datatree_label = datatree_dummies[datatree_dummies['Tertarik Beli?'] != 9999]\n",
    "datatree_nolabel = datatree_dummies[datatree_dummies['Tertarik Beli?'] == 9999]"
   ]
  },
  {
   "cell_type": "code",
   "execution_count": 17,
   "metadata": {
    "collapsed": false
   },
   "outputs": [
    {
     "data": {
      "text/html": [
       "<div>\n",
       "<table border=\"1\" class=\"dataframe\">\n",
       "  <thead>\n",
       "    <tr style=\"text-align: right;\">\n",
       "      <th></th>\n",
       "      <th>ID Nasabah</th>\n",
       "      <th>usia</th>\n",
       "      <th>Tertarik Beli?</th>\n",
       "      <th>Jenis Kelamin_Perempuan</th>\n",
       "      <th>Single_Tidak Single</th>\n",
       "      <th>Tinggal di Kota_Tinggal di pedesaan</th>\n",
       "      <th>Perokok_Perokok</th>\n",
       "      <th>Budget_low</th>\n",
       "      <th>Budget_medium</th>\n",
       "      <th>Kesukaan_Lainnya</th>\n",
       "      <th>Kesukaan_Seni</th>\n",
       "      <th>Kesukaan_Tekno</th>\n",
       "    </tr>\n",
       "  </thead>\n",
       "  <tbody>\n",
       "    <tr>\n",
       "      <th>0</th>\n",
       "      <td>609</td>\n",
       "      <td>39</td>\n",
       "      <td>1</td>\n",
       "      <td>0</td>\n",
       "      <td>0</td>\n",
       "      <td>1</td>\n",
       "      <td>0</td>\n",
       "      <td>0</td>\n",
       "      <td>1</td>\n",
       "      <td>0</td>\n",
       "      <td>0</td>\n",
       "      <td>1</td>\n",
       "    </tr>\n",
       "    <tr>\n",
       "      <th>1</th>\n",
       "      <td>424</td>\n",
       "      <td>39</td>\n",
       "      <td>1</td>\n",
       "      <td>0</td>\n",
       "      <td>0</td>\n",
       "      <td>1</td>\n",
       "      <td>0</td>\n",
       "      <td>0</td>\n",
       "      <td>1</td>\n",
       "      <td>0</td>\n",
       "      <td>0</td>\n",
       "      <td>1</td>\n",
       "    </tr>\n",
       "    <tr>\n",
       "      <th>2</th>\n",
       "      <td>983</td>\n",
       "      <td>39</td>\n",
       "      <td>0</td>\n",
       "      <td>1</td>\n",
       "      <td>0</td>\n",
       "      <td>0</td>\n",
       "      <td>0</td>\n",
       "      <td>1</td>\n",
       "      <td>0</td>\n",
       "      <td>0</td>\n",
       "      <td>1</td>\n",
       "      <td>0</td>\n",
       "    </tr>\n",
       "    <tr>\n",
       "      <th>3</th>\n",
       "      <td>520</td>\n",
       "      <td>32</td>\n",
       "      <td>1</td>\n",
       "      <td>0</td>\n",
       "      <td>0</td>\n",
       "      <td>1</td>\n",
       "      <td>1</td>\n",
       "      <td>1</td>\n",
       "      <td>0</td>\n",
       "      <td>0</td>\n",
       "      <td>1</td>\n",
       "      <td>0</td>\n",
       "    </tr>\n",
       "    <tr>\n",
       "      <th>4</th>\n",
       "      <td>868</td>\n",
       "      <td>38</td>\n",
       "      <td>0</td>\n",
       "      <td>0</td>\n",
       "      <td>0</td>\n",
       "      <td>1</td>\n",
       "      <td>0</td>\n",
       "      <td>1</td>\n",
       "      <td>0</td>\n",
       "      <td>0</td>\n",
       "      <td>0</td>\n",
       "      <td>1</td>\n",
       "    </tr>\n",
       "  </tbody>\n",
       "</table>\n",
       "</div>"
      ],
      "text/plain": [
       "   ID Nasabah  usia  Tertarik Beli?  Jenis Kelamin_Perempuan  \\\n",
       "0         609    39               1                        0   \n",
       "1         424    39               1                        0   \n",
       "2         983    39               0                        1   \n",
       "3         520    32               1                        0   \n",
       "4         868    38               0                        0   \n",
       "\n",
       "   Single_Tidak Single  Tinggal di Kota_Tinggal di pedesaan  Perokok_Perokok  \\\n",
       "0                    0                                    1                0   \n",
       "1                    0                                    1                0   \n",
       "2                    0                                    0                0   \n",
       "3                    0                                    1                1   \n",
       "4                    0                                    1                0   \n",
       "\n",
       "   Budget_low  Budget_medium  Kesukaan_Lainnya  Kesukaan_Seni  Kesukaan_Tekno  \n",
       "0           0              1                 0              0               1  \n",
       "1           0              1                 0              0               1  \n",
       "2           1              0                 0              1               0  \n",
       "3           1              0                 0              1               0  \n",
       "4           1              0                 0              0               1  "
      ]
     },
     "execution_count": 17,
     "metadata": {},
     "output_type": "execute_result"
    }
   ],
   "source": [
    "datatree_label.head()"
   ]
  },
  {
   "cell_type": "code",
   "execution_count": 18,
   "metadata": {
    "collapsed": false
   },
   "outputs": [
    {
     "data": {
      "text/html": [
       "<div>\n",
       "<table border=\"1\" class=\"dataframe\">\n",
       "  <thead>\n",
       "    <tr style=\"text-align: right;\">\n",
       "      <th></th>\n",
       "      <th>ID Nasabah</th>\n",
       "      <th>usia</th>\n",
       "      <th>Tertarik Beli?</th>\n",
       "      <th>Jenis Kelamin_Perempuan</th>\n",
       "      <th>Single_Tidak Single</th>\n",
       "      <th>Tinggal di Kota_Tinggal di pedesaan</th>\n",
       "      <th>Perokok_Perokok</th>\n",
       "      <th>Budget_low</th>\n",
       "      <th>Budget_medium</th>\n",
       "      <th>Kesukaan_Lainnya</th>\n",
       "      <th>Kesukaan_Seni</th>\n",
       "      <th>Kesukaan_Tekno</th>\n",
       "    </tr>\n",
       "  </thead>\n",
       "  <tbody>\n",
       "    <tr>\n",
       "      <th>0</th>\n",
       "      <td>436</td>\n",
       "      <td>34</td>\n",
       "      <td>9999</td>\n",
       "      <td>0</td>\n",
       "      <td>0</td>\n",
       "      <td>0</td>\n",
       "      <td>0</td>\n",
       "      <td>0</td>\n",
       "      <td>1</td>\n",
       "      <td>0</td>\n",
       "      <td>0</td>\n",
       "      <td>0</td>\n",
       "    </tr>\n",
       "    <tr>\n",
       "      <th>1</th>\n",
       "      <td>403</td>\n",
       "      <td>33</td>\n",
       "      <td>9999</td>\n",
       "      <td>1</td>\n",
       "      <td>0</td>\n",
       "      <td>1</td>\n",
       "      <td>0</td>\n",
       "      <td>1</td>\n",
       "      <td>0</td>\n",
       "      <td>0</td>\n",
       "      <td>0</td>\n",
       "      <td>1</td>\n",
       "    </tr>\n",
       "    <tr>\n",
       "      <th>2</th>\n",
       "      <td>119</td>\n",
       "      <td>38</td>\n",
       "      <td>9999</td>\n",
       "      <td>1</td>\n",
       "      <td>0</td>\n",
       "      <td>1</td>\n",
       "      <td>1</td>\n",
       "      <td>1</td>\n",
       "      <td>0</td>\n",
       "      <td>0</td>\n",
       "      <td>0</td>\n",
       "      <td>1</td>\n",
       "    </tr>\n",
       "    <tr>\n",
       "      <th>3</th>\n",
       "      <td>565</td>\n",
       "      <td>32</td>\n",
       "      <td>9999</td>\n",
       "      <td>0</td>\n",
       "      <td>0</td>\n",
       "      <td>0</td>\n",
       "      <td>0</td>\n",
       "      <td>0</td>\n",
       "      <td>1</td>\n",
       "      <td>0</td>\n",
       "      <td>1</td>\n",
       "      <td>0</td>\n",
       "    </tr>\n",
       "    <tr>\n",
       "      <th>4</th>\n",
       "      <td>281</td>\n",
       "      <td>29</td>\n",
       "      <td>9999</td>\n",
       "      <td>1</td>\n",
       "      <td>1</td>\n",
       "      <td>1</td>\n",
       "      <td>0</td>\n",
       "      <td>1</td>\n",
       "      <td>0</td>\n",
       "      <td>0</td>\n",
       "      <td>0</td>\n",
       "      <td>1</td>\n",
       "    </tr>\n",
       "  </tbody>\n",
       "</table>\n",
       "</div>"
      ],
      "text/plain": [
       "   ID Nasabah  usia  Tertarik Beli?  Jenis Kelamin_Perempuan  \\\n",
       "0         436    34            9999                        0   \n",
       "1         403    33            9999                        1   \n",
       "2         119    38            9999                        1   \n",
       "3         565    32            9999                        0   \n",
       "4         281    29            9999                        1   \n",
       "\n",
       "   Single_Tidak Single  Tinggal di Kota_Tinggal di pedesaan  Perokok_Perokok  \\\n",
       "0                    0                                    0                0   \n",
       "1                    0                                    1                0   \n",
       "2                    0                                    1                1   \n",
       "3                    0                                    0                0   \n",
       "4                    1                                    1                0   \n",
       "\n",
       "   Budget_low  Budget_medium  Kesukaan_Lainnya  Kesukaan_Seni  Kesukaan_Tekno  \n",
       "0           0              1                 0              0               0  \n",
       "1           1              0                 0              0               1  \n",
       "2           1              0                 0              0               1  \n",
       "3           0              1                 0              1               0  \n",
       "4           1              0                 0              0               1  "
      ]
     },
     "execution_count": 18,
     "metadata": {},
     "output_type": "execute_result"
    }
   ],
   "source": [
    "datatree_nolabel.head()"
   ]
  },
  {
   "cell_type": "markdown",
   "metadata": {},
   "source": [
    "## 3. Pembagian data"
   ]
  },
  {
   "cell_type": "code",
   "execution_count": 19,
   "metadata": {
    "collapsed": false
   },
   "outputs": [
    {
     "data": {
      "text/plain": [
       "['Jenis Kelamin_Perempuan',\n",
       " 'Single_Tidak Single',\n",
       " 'Tinggal di Kota_Tinggal di pedesaan',\n",
       " 'Perokok_Perokok',\n",
       " 'Budget_low',\n",
       " 'Budget_medium',\n",
       " 'Kesukaan_Lainnya',\n",
       " 'Kesukaan_Seni',\n",
       " 'Kesukaan_Tekno',\n",
       " 'usia']"
      ]
     },
     "execution_count": 19,
     "metadata": {},
     "output_type": "execute_result"
    }
   ],
   "source": [
    "peubah_penjelas = list(datatree_dummies)[3:]+['usia']\n",
    "peubah_penjelas"
   ]
  },
  {
   "cell_type": "code",
   "execution_count": 20,
   "metadata": {
    "collapsed": true
   },
   "outputs": [],
   "source": [
    "y = datatree_label['Tertarik Beli?']"
   ]
  },
  {
   "cell_type": "code",
   "execution_count": 21,
   "metadata": {
    "collapsed": true
   },
   "outputs": [],
   "source": [
    "from sklearn.model_selection import train_test_split"
   ]
  },
  {
   "cell_type": "code",
   "execution_count": 22,
   "metadata": {
    "collapsed": false
   },
   "outputs": [],
   "source": [
    "X_train, X_test, y_train, y_test = train_test_split(datatree_label[peubah_penjelas],y)"
   ]
  },
  {
   "cell_type": "code",
   "execution_count": 23,
   "metadata": {
    "collapsed": false
   },
   "outputs": [
    {
     "name": "stdout",
     "output_type": "stream",
     "text": [
      "dimensi data train : (731, 10)\n",
      "dimensi data test : (244, 10)\n"
     ]
    }
   ],
   "source": [
    "print('dimensi data train :',X_train.shape)\n",
    "print('dimensi data test :',X_test.shape)"
   ]
  },
  {
   "cell_type": "markdown",
   "metadata": {},
   "source": [
    "## 4. Modeling"
   ]
  },
  {
   "cell_type": "markdown",
   "metadata": {},
   "source": [
    "### a. Regresi Logistik"
   ]
  },
  {
   "cell_type": "code",
   "execution_count": 24,
   "metadata": {
    "collapsed": false
   },
   "outputs": [
    {
     "name": "stdout",
     "output_type": "stream",
     "text": [
      "Optimization terminated successfully.\n",
      "         Current function value: 0.174085\n",
      "         Iterations 10\n",
      "                           Logit Regression Results                           \n",
      "==============================================================================\n",
      "Dep. Variable:         Tertarik Beli?   No. Observations:                  731\n",
      "Model:                          Logit   Df Residuals:                      721\n",
      "Method:                           MLE   Df Model:                            9\n",
      "Date:                Sat, 02 Mar 2019   Pseudo R-squ.:                  0.7237\n",
      "Time:                        00:26:50   Log-Likelihood:                -127.26\n",
      "converged:                       True   LL-Null:                       -460.53\n",
      "                                        LLR p-value:                1.067e-137\n",
      "=======================================================================================================\n",
      "                                          coef    std err          z      P>|z|      [0.025      0.975]\n",
      "-------------------------------------------------------------------------------------------------------\n",
      "Jenis Kelamin_Perempuan                -6.9190      0.785     -8.813      0.000      -8.458      -5.380\n",
      "Single_Tidak Single                    -0.6215      0.400     -1.553      0.120      -1.406       0.163\n",
      "Tinggal di Kota_Tinggal di pedesaan    -0.5385      0.333     -1.618      0.106      -1.191       0.114\n",
      "Perokok_Perokok                         3.5096      0.462      7.598      0.000       2.604       4.415\n",
      "Budget_low                             -3.4047      0.484     -7.028      0.000      -4.354      -2.455\n",
      "Budget_medium                           3.8577      0.772      4.998      0.000       2.345       5.370\n",
      "Kesukaan_Lainnya                       -1.1017      0.713     -1.545      0.122      -2.499       0.296\n",
      "Kesukaan_Seni                           0.1147      0.464      0.247      0.805      -0.795       1.024\n",
      "Kesukaan_Tekno                         -0.2234      0.408     -0.547      0.584      -1.024       0.577\n",
      "usia                                    0.0381      0.014      2.820      0.005       0.012       0.065\n",
      "=======================================================================================================\n",
      "\n",
      "Possibly complete quasi-separation: A fraction 0.16 of observations can be\n",
      "perfectly predicted. This might indicate that there is complete\n",
      "quasi-separation. In this case some parameters will not be identified.\n"
     ]
    }
   ],
   "source": [
    "import statsmodels.api as sm\n",
    "\n",
    "logit_model = sm.Logit(y_train,X_train)\n",
    "result = logit_model.fit()\n",
    "\n",
    "print(result.summary())"
   ]
  },
  {
   "cell_type": "code",
   "execution_count": 25,
   "metadata": {
    "collapsed": true
   },
   "outputs": [],
   "source": [
    "from sklearn.linear_model import LogisticRegression"
   ]
  },
  {
   "cell_type": "code",
   "execution_count": 26,
   "metadata": {
    "collapsed": false
   },
   "outputs": [],
   "source": [
    "logreg = LogisticRegression()"
   ]
  },
  {
   "cell_type": "code",
   "execution_count": 27,
   "metadata": {
    "collapsed": false
   },
   "outputs": [
    {
     "data": {
      "text/plain": [
       "LogisticRegression(C=1.0, class_weight=None, dual=False, fit_intercept=True,\n",
       "          intercept_scaling=1, max_iter=100, multi_class='ovr', n_jobs=1,\n",
       "          penalty='l2', random_state=None, solver='liblinear', tol=0.0001,\n",
       "          verbose=0, warm_start=False)"
      ]
     },
     "execution_count": 27,
     "metadata": {},
     "output_type": "execute_result"
    }
   ],
   "source": [
    "logreg.fit(X_train,y_train)"
   ]
  },
  {
   "cell_type": "code",
   "execution_count": 28,
   "metadata": {
    "collapsed": false
   },
   "outputs": [
    {
     "data": {
      "text/plain": [
       "0.93442622950819676"
      ]
     },
     "execution_count": 28,
     "metadata": {},
     "output_type": "execute_result"
    }
   ],
   "source": [
    "# akurasi data test\n",
    "logreg.score(X_test,y_test)"
   ]
  },
  {
   "cell_type": "code",
   "execution_count": 29,
   "metadata": {
    "collapsed": false
   },
   "outputs": [
    {
     "data": {
      "text/plain": [
       "0.92339261285909713"
      ]
     },
     "execution_count": 29,
     "metadata": {},
     "output_type": "execute_result"
    }
   ],
   "source": [
    "# akurasi data train\n",
    "logreg.score(X_train,y_train)"
   ]
  },
  {
   "cell_type": "code",
   "execution_count": 30,
   "metadata": {
    "collapsed": true
   },
   "outputs": [],
   "source": [
    "# library untuk menghitung skor validasi silang\n",
    "from sklearn.model_selection import cross_val_score\n",
    "\n",
    "# library untuk melakukan validasi silang secara berstrata\n",
    "from sklearn.model_selection import StratifiedKFold"
   ]
  },
  {
   "cell_type": "code",
   "execution_count": 31,
   "metadata": {
    "collapsed": true
   },
   "outputs": [],
   "source": [
    "skfold = StratifiedKFold(n_splits = 5)\n",
    "logreg_cv = cross_val_score(logreg, X_train,y_train,cv=skfold)"
   ]
  },
  {
   "cell_type": "code",
   "execution_count": 32,
   "metadata": {
    "collapsed": false
   },
   "outputs": [
    {
     "name": "stdout",
     "output_type": "stream",
     "text": [
      "Skor CV : \n",
      " [ 0.95238095  0.89795918  0.9109589   0.90410959  0.93793103]\n",
      "Rata-rata Skor CV : \n",
      " 0.920667932738\n"
     ]
    }
   ],
   "source": [
    "print(\"Skor CV : \\n\",logreg_cv)\n",
    "print(\"Rata-rata Skor CV : \\n\",logreg_cv.mean())"
   ]
  },
  {
   "cell_type": "code",
   "execution_count": 33,
   "metadata": {
    "collapsed": true
   },
   "outputs": [],
   "source": [
    "def eval(alg):\n",
    "    alg.fit(X_train,y_train)\n",
    "    print(\"Skore test : \\n\",alg.score(X_test,y_test),\"\\n\")\n",
    "    print(\"Skore train : \\n\",alg.score(X_train,y_train),\"\\n\")\n",
    "    \n",
    "    skfold = StratifiedKFold(n_splits = 5)\n",
    "    \n",
    "    alg_cv = cross_val_score(alg, X_train,y_train,cv=skfold)\n",
    "    print(\"Skor CV : \\n\",alg_cv,\"\\n\")\n",
    "    print(\"Rata-rata Skor CV : \\n\",alg_cv.mean(),\"\\n\")"
   ]
  },
  {
   "cell_type": "markdown",
   "metadata": {},
   "source": [
    "### b. Pohon Keputusan"
   ]
  },
  {
   "cell_type": "code",
   "execution_count": 34,
   "metadata": {
    "collapsed": false
   },
   "outputs": [],
   "source": [
    "from sklearn.tree import DecisionTreeClassifier"
   ]
  },
  {
   "cell_type": "code",
   "execution_count": 35,
   "metadata": {
    "collapsed": false
   },
   "outputs": [],
   "source": [
    "tree = DecisionTreeClassifier(max_depth = 2, min_samples_leaf = 70)"
   ]
  },
  {
   "cell_type": "code",
   "execution_count": 36,
   "metadata": {
    "collapsed": false
   },
   "outputs": [
    {
     "name": "stdout",
     "output_type": "stream",
     "text": [
      "Skore test : \n",
      " 0.901639344262 \n",
      "\n",
      "Skore train : \n",
      " 0.902872777018 \n",
      "\n",
      "Skor CV : \n",
      " [ 0.91156463  0.88435374  0.89041096  0.86986301  0.86206897] \n",
      "\n",
      "Rata-rata Skor CV : \n",
      " 0.883652261093 \n",
      "\n"
     ]
    }
   ],
   "source": [
    "eval(tree)"
   ]
  },
  {
   "cell_type": "code",
   "execution_count": 37,
   "metadata": {
    "collapsed": false
   },
   "outputs": [],
   "source": [
    "import matplotlib.pyplot as plt\n",
    "import seaborn as sns"
   ]
  },
  {
   "cell_type": "code",
   "execution_count": 38,
   "metadata": {
    "collapsed": false
   },
   "outputs": [
    {
     "data": {
      "text/plain": [
       "DecisionTreeClassifier(class_weight=None, criterion='gini', max_depth=2,\n",
       "            max_features=None, max_leaf_nodes=None,\n",
       "            min_impurity_decrease=0.0, min_impurity_split=None,\n",
       "            min_samples_leaf=70, min_samples_split=2,\n",
       "            min_weight_fraction_leaf=0.0, presort=False, random_state=None,\n",
       "            splitter='best')"
      ]
     },
     "execution_count": 38,
     "metadata": {},
     "output_type": "execute_result"
    }
   ],
   "source": [
    "tree.fit(X_train,y_train)"
   ]
  },
  {
   "cell_type": "code",
   "execution_count": 39,
   "metadata": {
    "collapsed": false
   },
   "outputs": [
    {
     "data": {
      "image/png": "[encoded data removed]",
      "text/plain": [
       "<matplotlib.figure.Figure at 0x1deafd76550>"
      ]
     },
     "metadata": {},
     "output_type": "display_data"
    }
   ],
   "source": [
    "fitur_imp=pd.DataFrame({'fitur':list(X_train),'importances':tree.feature_importances_})\n",
    "fitur_imp.sort_values(by='importances',ascending=False,inplace=True)\n",
    "\n",
    "sns.barplot(x='importances',y='fitur',data=fitur_imp)\n",
    "plt.xlabel(\"Feature Importances\")\n",
    "plt.ylabel(\"Feature\")\n",
    "plt.show()"
   ]
  },
  {
   "cell_type": "code",
   "execution_count": 40,
   "metadata": {
    "collapsed": true
   },
   "outputs": [],
   "source": [
    "import graphviz\n",
    "from sklearn.tree import export_graphviz"
   ]
  },
  {
   "cell_type": "code",
   "execution_count": 41,
   "metadata": {
    "collapsed": false
   },
   "outputs": [],
   "source": [
    "export_graphviz(tree, out_file=\"tree.dot\"\n",
    "                ,class_names=[\"tidak tertarik\", \"tertarik\"]\n",
    "                ,feature_names = list(X_train)\n",
    "                ,impurity=False\n",
    "                ,filled=True)"
   ]
  },
  {
   "cell_type": "code",
   "execution_count": 42,
   "metadata": {
    "collapsed": false
   },
   "outputs": [
    {
     "data": {
      "image/svg+xml": [
       "<?xml version=\"1.0\" encoding=\"UTF-8\" standalone=\"no\"?>\r\n",
       "<!DOCTYPE svg PUBLIC \"-//W3C//DTD SVG 1.1//EN\"\r\n",
       " \"http://www.w3.org/Graphics/SVG/1.1/DTD/svg11.dtd\">\r\n",
       "<!-- Generated by graphviz version 2.38.0 (20140413.2041)\r\n",
       " -->\r\n",
       "<!-- Title: Tree Pages: 1 -->\r\n",
       "<svg width=\"564pt\" height=\"269pt\"\r\n",
       " viewBox=\"0.00 0.00 564.00 269.00\" xmlns=\"http://www.w3.org/2000/svg\" xmlns:xlink=\"http://www.w3.org/1999/xlink\">\r\n",
       "<g id=\"graph0\" class=\"graph\" transform=\"scale(1 1) rotate(0) translate(4 265)\">\r\n",
       "<title>Tree</title>\r\n",
       "<polygon fill=\"white\" stroke=\"none\" points=\"-4,4 -4,-265 560,-265 560,4 -4,4\"/>\r\n",
       "<!-- 0 -->\r\n",
       "<g id=\"node1\" class=\"node\"><title>0</title>\r\n",
       "<polygon fill=\"#e58139\" fill-opacity=\"0.521569\" stroke=\"black\" points=\"370,-261 167,-261 167,-193 370,-193 370,-261\"/>\r\n",
       "<text text-anchor=\"middle\" x=\"268.5\" y=\"-245.8\" font-family=\"Times New Roman,serif\" font-size=\"14.00\">Jenis Kelamin_Perempuan &lt;= 0.5</text>\r\n",
       "<text text-anchor=\"middle\" x=\"268.5\" y=\"-230.8\" font-family=\"Times New Roman,serif\" font-size=\"14.00\">samples = 731</text>\r\n",
       "<text text-anchor=\"middle\" x=\"268.5\" y=\"-215.8\" font-family=\"Times New Roman,serif\" font-size=\"14.00\">value = [494, 237]</text>\r\n",
       "<text text-anchor=\"middle\" x=\"268.5\" y=\"-200.8\" font-family=\"Times New Roman,serif\" font-size=\"14.00\">class = tidak tertarik</text>\r\n",
       "</g>\r\n",
       "<!-- 1 -->\r\n",
       "<g id=\"node2\" class=\"node\"><title>1</title>\r\n",
       "<polygon fill=\"#399de5\" fill-opacity=\"0.400000\" stroke=\"black\" points=\"254,-157 129,-157 129,-89 254,-89 254,-157\"/>\r\n",
       "<text text-anchor=\"middle\" x=\"191.5\" y=\"-141.8\" font-family=\"Times New Roman,serif\" font-size=\"14.00\">Budget_low &lt;= 0.5</text>\r\n",
       "<text text-anchor=\"middle\" x=\"191.5\" y=\"-126.8\" font-family=\"Times New Roman,serif\" font-size=\"14.00\">samples = 349</text>\r\n",
       "<text text-anchor=\"middle\" x=\"191.5\" y=\"-111.8\" font-family=\"Times New Roman,serif\" font-size=\"14.00\">value = [131, 218]</text>\r\n",
       "<text text-anchor=\"middle\" x=\"191.5\" y=\"-96.8\" font-family=\"Times New Roman,serif\" font-size=\"14.00\">class = tertarik</text>\r\n",
       "</g>\r\n",
       "<!-- 0&#45;&gt;1 -->\r\n",
       "<g id=\"edge1\" class=\"edge\"><title>0&#45;&gt;1</title>\r\n",
       "<path fill=\"none\" stroke=\"black\" d=\"M243.5,-192.884C236.911,-184.154 229.717,-174.625 222.839,-165.514\"/>\r\n",
       "<polygon fill=\"black\" stroke=\"black\" points=\"225.456,-163.172 216.638,-157.299 219.869,-167.389 225.456,-163.172\"/>\r\n",
       "<text text-anchor=\"middle\" x=\"213.18\" y=\"-178.359\" font-family=\"Times New Roman,serif\" font-size=\"14.00\">True</text>\r\n",
       "</g>\r\n",
       "<!-- 4 -->\r\n",
       "<g id=\"node5\" class=\"node\"><title>4</title>\r\n",
       "<polygon fill=\"#e58139\" fill-opacity=\"0.949020\" stroke=\"black\" points=\"421,-157 272,-157 272,-89 421,-89 421,-157\"/>\r\n",
       "<text text-anchor=\"middle\" x=\"346.5\" y=\"-141.8\" font-family=\"Times New Roman,serif\" font-size=\"14.00\">Budget_medium &lt;= 0.5</text>\r\n",
       "<text text-anchor=\"middle\" x=\"346.5\" y=\"-126.8\" font-family=\"Times New Roman,serif\" font-size=\"14.00\">samples = 382</text>\r\n",
       "<text text-anchor=\"middle\" x=\"346.5\" y=\"-111.8\" font-family=\"Times New Roman,serif\" font-size=\"14.00\">value = [363, 19]</text>\r\n",
       "<text text-anchor=\"middle\" x=\"346.5\" y=\"-96.8\" font-family=\"Times New Roman,serif\" font-size=\"14.00\">class = tidak tertarik</text>\r\n",
       "</g>\r\n",
       "<!-- 0&#45;&gt;4 -->\r\n",
       "<g id=\"edge4\" class=\"edge\"><title>0&#45;&gt;4</title>\r\n",
       "<path fill=\"none\" stroke=\"black\" d=\"M293.824,-192.884C300.5,-184.154 307.787,-174.625 314.754,-165.514\"/>\r\n",
       "<polygon fill=\"black\" stroke=\"black\" points=\"317.742,-167.369 321.036,-157.299 312.181,-163.117 317.742,-167.369\"/>\r\n",
       "<text text-anchor=\"middle\" x=\"324.34\" y=\"-178.38\" font-family=\"Times New Roman,serif\" font-size=\"14.00\">False</text>\r\n",
       "</g>\r\n",
       "<!-- 2 -->\r\n",
       "<g id=\"node3\" class=\"node\"><title>2</title>\r\n",
       "<polygon fill=\"#399de5\" fill-opacity=\"0.882353\" stroke=\"black\" points=\"111,-53 0,-53 0,-0 111,-0 111,-53\"/>\r\n",
       "<text text-anchor=\"middle\" x=\"55.5\" y=\"-37.8\" font-family=\"Times New Roman,serif\" font-size=\"14.00\">samples = 210</text>\r\n",
       "<text text-anchor=\"middle\" x=\"55.5\" y=\"-22.8\" font-family=\"Times New Roman,serif\" font-size=\"14.00\">value = [22, 188]</text>\r\n",
       "<text text-anchor=\"middle\" x=\"55.5\" y=\"-7.8\" font-family=\"Times New Roman,serif\" font-size=\"14.00\">class = tertarik</text>\r\n",
       "</g>\r\n",
       "<!-- 1&#45;&gt;2 -->\r\n",
       "<g id=\"edge2\" class=\"edge\"><title>1&#45;&gt;2</title>\r\n",
       "<path fill=\"none\" stroke=\"black\" d=\"M143.934,-88.9485C129.978,-79.2516 114.757,-68.6752 100.938,-59.073\"/>\r\n",
       "<polygon fill=\"black\" stroke=\"black\" points=\"102.748,-56.0687 92.5391,-53.2367 98.754,-61.8172 102.748,-56.0687\"/>\r\n",
       "</g>\r\n",
       "<!-- 3 -->\r\n",
       "<g id=\"node4\" class=\"node\"><title>3</title>\r\n",
       "<polygon fill=\"#e58139\" fill-opacity=\"0.725490\" stroke=\"black\" points=\"258,-53 129,-53 129,-0 258,-0 258,-53\"/>\r\n",
       "<text text-anchor=\"middle\" x=\"193.5\" y=\"-37.8\" font-family=\"Times New Roman,serif\" font-size=\"14.00\">samples = 139</text>\r\n",
       "<text text-anchor=\"middle\" x=\"193.5\" y=\"-22.8\" font-family=\"Times New Roman,serif\" font-size=\"14.00\">value = [109, 30]</text>\r\n",
       "<text text-anchor=\"middle\" x=\"193.5\" y=\"-7.8\" font-family=\"Times New Roman,serif\" font-size=\"14.00\">class = tidak tertarik</text>\r\n",
       "</g>\r\n",
       "<!-- 1&#45;&gt;3 -->\r\n",
       "<g id=\"edge3\" class=\"edge\"><title>1&#45;&gt;3</title>\r\n",
       "<path fill=\"none\" stroke=\"black\" d=\"M192.2,-88.9485C192.374,-80.7153 192.561,-71.848 192.738,-63.4814\"/>\r\n",
       "<polygon fill=\"black\" stroke=\"black\" points=\"196.243,-63.3086 192.955,-53.2367 189.244,-63.1604 196.243,-63.3086\"/>\r\n",
       "</g>\r\n",
       "<!-- 5 -->\r\n",
       "<g id=\"node6\" class=\"node\"><title>5</title>\r\n",
       "<polygon fill=\"#e58139\" fill-opacity=\"0.996078\" stroke=\"black\" points=\"409,-53 280,-53 280,-0 409,-0 409,-53\"/>\r\n",
       "<text text-anchor=\"middle\" x=\"344.5\" y=\"-37.8\" font-family=\"Times New Roman,serif\" font-size=\"14.00\">samples = 232</text>\r\n",
       "<text text-anchor=\"middle\" x=\"344.5\" y=\"-22.8\" font-family=\"Times New Roman,serif\" font-size=\"14.00\">value = [231, 1]</text>\r\n",
       "<text text-anchor=\"middle\" x=\"344.5\" y=\"-7.8\" font-family=\"Times New Roman,serif\" font-size=\"14.00\">class = tidak tertarik</text>\r\n",
       "</g>\r\n",
       "<!-- 4&#45;&gt;5 -->\r\n",
       "<g id=\"edge5\" class=\"edge\"><title>4&#45;&gt;5</title>\r\n",
       "<path fill=\"none\" stroke=\"black\" d=\"M345.8,-88.9485C345.626,-80.7153 345.439,-71.848 345.262,-63.4814\"/>\r\n",
       "<polygon fill=\"black\" stroke=\"black\" points=\"348.756,-63.1604 345.045,-53.2367 341.757,-63.3086 348.756,-63.1604\"/>\r\n",
       "</g>\r\n",
       "<!-- 6 -->\r\n",
       "<g id=\"node7\" class=\"node\"><title>6</title>\r\n",
       "<polygon fill=\"#e58139\" fill-opacity=\"0.862745\" stroke=\"black\" points=\"556,-53 427,-53 427,-0 556,-0 556,-53\"/>\r\n",
       "<text text-anchor=\"middle\" x=\"491.5\" y=\"-37.8\" font-family=\"Times New Roman,serif\" font-size=\"14.00\">samples = 150</text>\r\n",
       "<text text-anchor=\"middle\" x=\"491.5\" y=\"-22.8\" font-family=\"Times New Roman,serif\" font-size=\"14.00\">value = [132, 18]</text>\r\n",
       "<text text-anchor=\"middle\" x=\"491.5\" y=\"-7.8\" font-family=\"Times New Roman,serif\" font-size=\"14.00\">class = tidak tertarik</text>\r\n",
       "</g>\r\n",
       "<!-- 4&#45;&gt;6 -->\r\n",
       "<g id=\"edge6\" class=\"edge\"><title>4&#45;&gt;6</title>\r\n",
       "<path fill=\"none\" stroke=\"black\" d=\"M397.214,-88.9485C412.233,-79.1601 428.627,-68.4756 443.471,-58.8015\"/>\r\n",
       "<polygon fill=\"black\" stroke=\"black\" points=\"445.543,-61.629 452.01,-53.2367 441.721,-55.7645 445.543,-61.629\"/>\r\n",
       "</g>\r\n",
       "</g>\r\n",
       "</svg>\r\n"
      ],
      "text/plain": [
       "<graphviz.files.Source at 0x1deaff0f2b0>"
      ]
     },
     "execution_count": 42,
     "metadata": {},
     "output_type": "execute_result"
    }
   ],
   "source": [
    "with open(\"tree.dot\") as f:    \n",
    "    dot_graph = f.read() \n",
    "graphviz.Source(dot_graph)"
   ]
  },
  {
   "cell_type": "markdown",
   "metadata": {},
   "source": [
    "### c. Random Forest"
   ]
  },
  {
   "cell_type": "code",
   "execution_count": 44,
   "metadata": {
    "collapsed": false
   },
   "outputs": [],
   "source": [
    "from sklearn.ensemble import RandomForestClassifier"
   ]
  },
  {
   "cell_type": "code",
   "execution_count": 45,
   "metadata": {
    "collapsed": false
   },
   "outputs": [],
   "source": [
    "rf = RandomForestClassifier()"
   ]
  },
  {
   "cell_type": "code",
   "execution_count": 46,
   "metadata": {
    "collapsed": false
   },
   "outputs": [
    {
     "name": "stdout",
     "output_type": "stream",
     "text": [
      "Skore test : \n",
      " 0.905737704918 \n",
      "\n",
      "Skore train : \n",
      " 0.979480164159 \n",
      "\n",
      "Skor CV : \n",
      " [ 0.9047619   0.9109589   0.88356164  0.89726027  0.87671233] \n",
      "\n",
      "Rata-rata Skor CV : \n",
      " 0.894651011089 \n",
      "\n"
     ]
    }
   ],
   "source": [
    "eval(rf)"
   ]
  },
  {
   "cell_type": "code",
   "execution_count": 58,
   "metadata": {
    "collapsed": false
   },
   "outputs": [
    {
     "data": {
      "image/png": "[encoded data removed]",
      "text/plain": [
       "<matplotlib.figure.Figure at 0x1b3fb7ba438>"
      ]
     },
     "metadata": {},
     "output_type": "display_data"
    }
   ],
   "source": [
    "rf.fit(X_train,y_train)\n",
    "\n",
    "fitur_imp=pd.DataFrame({'fitur':list(X_train),'importances':rf.feature_importances_})\n",
    "fitur_imp.sort_values(by='importances',ascending=False,inplace=True)\n",
    "\n",
    "sns.barplot(x='importances',y='fitur',data=fitur_imp)\n",
    "plt.xlabel(\"Feature Importances\")\n",
    "plt.ylabel(\"Feature\")\n",
    "plt.show()"
   ]
  },
  {
   "cell_type": "markdown",
   "metadata": {},
   "source": [
    "## 5. Submission"
   ]
  },
  {
   "cell_type": "code",
   "execution_count": 184,
   "metadata": {
    "collapsed": false
   },
   "outputs": [
    {
     "data": {
      "text/plain": [
       "LogisticRegression(C=1.0, class_weight=None, dual=False, fit_intercept=True,\n",
       "          intercept_scaling=1, max_iter=100, multi_class='ovr', n_jobs=1,\n",
       "          penalty='l2', random_state=None, solver='liblinear', tol=0.0001,\n",
       "          verbose=0, warm_start=False)"
      ]
     },
     "execution_count": 184,
     "metadata": {},
     "output_type": "execute_result"
    }
   ],
   "source": [
    "logreg.fit(datatree_label[peubah_penjelas],y)"
   ]
  },
  {
   "cell_type": "code",
   "execution_count": 186,
   "metadata": {
    "collapsed": false
   },
   "outputs": [
    {
     "name": "stderr",
     "output_type": "stream",
     "text": [
      "C:\\Users\\Muy\\Anaconda3\\lib\\site-packages\\ipykernel\\__main__.py:1: SettingWithCopyWarning: \n",
      "A value is trying to be set on a copy of a slice from a DataFrame.\n",
      "Try using .loc[row_indexer,col_indexer] = value instead\n",
      "\n",
      "See the caveats in the documentation: http://pandas.pydata.org/pandas-docs/stable/indexing.html#indexing-view-versus-copy\n",
      "  if __name__ == '__main__':\n"
     ]
    }
   ],
   "source": [
    "datatree_nolabel['Tertarik Beli?'] = logreg.predict(datatree_nolabel[peubah_penjelas])"
   ]
  },
  {
   "cell_type": "code",
   "execution_count": 188,
   "metadata": {
    "collapsed": false
   },
   "outputs": [
    {
     "data": {
      "text/html": [
       "<div>\n",
       "<table border=\"1\" class=\"dataframe\">\n",
       "  <thead>\n",
       "    <tr style=\"text-align: right;\">\n",
       "      <th></th>\n",
       "      <th>ID Nasabah</th>\n",
       "      <th>usia</th>\n",
       "      <th>Tertarik Beli?</th>\n",
       "      <th>Jenis Kelamin_Perempuan</th>\n",
       "      <th>Single_Tidak Single</th>\n",
       "      <th>Tinggal di Kota_Tinggal di pedesaan</th>\n",
       "      <th>Perokok_Perokok</th>\n",
       "      <th>Budget_low</th>\n",
       "      <th>Budget_medium</th>\n",
       "      <th>Kesukaan_Lainnya</th>\n",
       "      <th>Kesukaan_Seni</th>\n",
       "      <th>Kesukaan_Tekno</th>\n",
       "    </tr>\n",
       "  </thead>\n",
       "  <tbody>\n",
       "    <tr>\n",
       "      <th>0</th>\n",
       "      <td>436</td>\n",
       "      <td>34</td>\n",
       "      <td>1</td>\n",
       "      <td>0</td>\n",
       "      <td>0</td>\n",
       "      <td>0</td>\n",
       "      <td>0</td>\n",
       "      <td>0</td>\n",
       "      <td>1</td>\n",
       "      <td>0</td>\n",
       "      <td>0</td>\n",
       "      <td>0</td>\n",
       "    </tr>\n",
       "    <tr>\n",
       "      <th>1</th>\n",
       "      <td>403</td>\n",
       "      <td>33</td>\n",
       "      <td>0</td>\n",
       "      <td>1</td>\n",
       "      <td>0</td>\n",
       "      <td>1</td>\n",
       "      <td>0</td>\n",
       "      <td>1</td>\n",
       "      <td>0</td>\n",
       "      <td>0</td>\n",
       "      <td>0</td>\n",
       "      <td>1</td>\n",
       "    </tr>\n",
       "    <tr>\n",
       "      <th>2</th>\n",
       "      <td>119</td>\n",
       "      <td>38</td>\n",
       "      <td>0</td>\n",
       "      <td>1</td>\n",
       "      <td>0</td>\n",
       "      <td>1</td>\n",
       "      <td>1</td>\n",
       "      <td>1</td>\n",
       "      <td>0</td>\n",
       "      <td>0</td>\n",
       "      <td>0</td>\n",
       "      <td>1</td>\n",
       "    </tr>\n",
       "    <tr>\n",
       "      <th>3</th>\n",
       "      <td>565</td>\n",
       "      <td>32</td>\n",
       "      <td>1</td>\n",
       "      <td>0</td>\n",
       "      <td>0</td>\n",
       "      <td>0</td>\n",
       "      <td>0</td>\n",
       "      <td>0</td>\n",
       "      <td>1</td>\n",
       "      <td>0</td>\n",
       "      <td>1</td>\n",
       "      <td>0</td>\n",
       "    </tr>\n",
       "    <tr>\n",
       "      <th>4</th>\n",
       "      <td>281</td>\n",
       "      <td>29</td>\n",
       "      <td>0</td>\n",
       "      <td>1</td>\n",
       "      <td>1</td>\n",
       "      <td>1</td>\n",
       "      <td>0</td>\n",
       "      <td>1</td>\n",
       "      <td>0</td>\n",
       "      <td>0</td>\n",
       "      <td>0</td>\n",
       "      <td>1</td>\n",
       "    </tr>\n",
       "  </tbody>\n",
       "</table>\n",
       "</div>"
      ],
      "text/plain": [
       "   ID Nasabah  usia  Tertarik Beli?  Jenis Kelamin_Perempuan  \\\n",
       "0         436    34               1                        0   \n",
       "1         403    33               0                        1   \n",
       "2         119    38               0                        1   \n",
       "3         565    32               1                        0   \n",
       "4         281    29               0                        1   \n",
       "\n",
       "   Single_Tidak Single  Tinggal di Kota_Tinggal di pedesaan  Perokok_Perokok  \\\n",
       "0                    0                                    0                0   \n",
       "1                    0                                    1                0   \n",
       "2                    0                                    1                1   \n",
       "3                    0                                    0                0   \n",
       "4                    1                                    1                0   \n",
       "\n",
       "   Budget_low  Budget_medium  Kesukaan_Lainnya  Kesukaan_Seni  Kesukaan_Tekno  \n",
       "0           0              1                 0              0               0  \n",
       "1           1              0                 0              0               1  \n",
       "2           1              0                 0              0               1  \n",
       "3           0              1                 0              1               0  \n",
       "4           1              0                 0              0               1  "
      ]
     },
     "execution_count": 188,
     "metadata": {},
     "output_type": "execute_result"
    }
   ],
   "source": [
    "datatree_nolabel.head()"
   ]
  },
  {
   "cell_type": "code",
   "execution_count": 190,
   "metadata": {
    "collapsed": false
   },
   "outputs": [],
   "source": [
    "sumbmission = datatree_nolabel[['ID Nasabah','Tertarik Beli?']]"
   ]
  },
  {
   "cell_type": "code",
   "execution_count": 191,
   "metadata": {
    "collapsed": false
   },
   "outputs": [
    {
     "data": {
      "text/html": [
       "<div>\n",
       "<table border=\"1\" class=\"dataframe\">\n",
       "  <thead>\n",
       "    <tr style=\"text-align: right;\">\n",
       "      <th></th>\n",
       "      <th>ID Nasabah</th>\n",
       "      <th>Tertarik Beli?</th>\n",
       "    </tr>\n",
       "  </thead>\n",
       "  <tbody>\n",
       "    <tr>\n",
       "      <th>0</th>\n",
       "      <td>436</td>\n",
       "      <td>1</td>\n",
       "    </tr>\n",
       "    <tr>\n",
       "      <th>1</th>\n",
       "      <td>403</td>\n",
       "      <td>0</td>\n",
       "    </tr>\n",
       "    <tr>\n",
       "      <th>2</th>\n",
       "      <td>119</td>\n",
       "      <td>0</td>\n",
       "    </tr>\n",
       "    <tr>\n",
       "      <th>3</th>\n",
       "      <td>565</td>\n",
       "      <td>1</td>\n",
       "    </tr>\n",
       "    <tr>\n",
       "      <th>4</th>\n",
       "      <td>281</td>\n",
       "      <td>0</td>\n",
       "    </tr>\n",
       "  </tbody>\n",
       "</table>\n",
       "</div>"
      ],
      "text/plain": [
       "   ID Nasabah  Tertarik Beli?\n",
       "0         436               1\n",
       "1         403               0\n",
       "2         119               0\n",
       "3         565               1\n",
       "4         281               0"
      ]
     },
     "execution_count": 191,
     "metadata": {},
     "output_type": "execute_result"
    }
   ],
   "source": [
    "sumbmission.head()"
   ]
  },
  {
   "cell_type": "code",
   "execution_count": null,
   "metadata": {
    "collapsed": true
   },
   "outputs": [],
   "source": []
  }
 ],
 "metadata": {
  "kernelspec": {
   "display_name": "Python 3",
   "language": "python",
   "name": "python3"
  },
  "language_info": {
   "codemirror_mode": {
    "name": "ipython",
    "version": 3
   },
   "file_extension": ".py",
   "mimetype": "text/x-python",
   "name": "python",
   "nbconvert_exporter": "python",
   "pygments_lexer": "ipython3",
   "version": "3.6.0"
  }
 },
 "nbformat": 4,
 "nbformat_minor": 2
}
