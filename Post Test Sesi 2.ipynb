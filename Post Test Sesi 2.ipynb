{
 "cells": [
  {
   "cell_type": "markdown",
   "metadata": {},
   "source": [
    "Soal bagian 1 : bentuklah dictionary di bawah ini ke dalam dataframe dan jawab pertanyaan berikut :\n",
    "1. berapkah poin masing-masing tim pada tahun 2010 ...\n",
    "2. berapkah poin masing-masing tim pada tahun 2011 ...\n",
    "3. berapkah poin masing-masing tim pada tahun 2012 ...\n",
    "4. siapakah juara pada masing-masing tahun ...\n",
    "5. berapa banyak kemenangan yang diraih barcelona dari tahun 2011 hingga 2012 .."
   ]
  },
  {
   "cell_type": "markdown",
   "metadata": {},
   "source": [
    "menang 3 poin,\n",
    "seri 1 poin,\n",
    "kalah 0 poin"
   ]
  },
  {
   "cell_type": "code",
   "execution_count": 15,
   "metadata": {
    "collapsed": true
   },
   "outputs": [],
   "source": [
    "data = {'year':[\n",
    "    2010,2011,2012,\n",
    "    2010,2011,2012,\n",
    "    2010,2011,2012\n",
    "],'team':[\n",
    "    'FCBarcelona','FCBarcelona',\n",
    "    'FCBarcelona','RMadrid',\n",
    "    'RMadrid','RMadrid',\n",
    "    'Valencia CF','Valencia CF',\n",
    "    'Valencia CF'\n",
    "],\n",
    "       'Wins':[30,32,32,29,32,26,21,17,19],\n",
    "       'draws':[4,1,4,5,4,7,8,10,8],\n",
    "       'losses':[4,5,2,4,2,5,9,11,11]}"
   ]
  },
  {
   "cell_type": "markdown",
   "metadata": {},
   "source": [
    "jawaban"
   ]
  },
  {
   "cell_type": "markdown",
   "metadata": {},
   "source": [
    "Soal bagian 2 : import kembali dataframe 'edu' :"
   ]
  },
  {
   "cell_type": "markdown",
   "metadata": {},
   "source": [
    "1. ketika nilai dari variabel value dibatasi 6.5 < Value < 7, berapkah rata-rata dari variabel value untuk Belgia\n",
    "2. ada berapakah missing value pada variabel Value"
   ]
  },
  {
   "cell_type": "code",
   "execution_count": 42,
   "metadata": {
    "collapsed": true
   },
   "outputs": [],
   "source": [
    "edu = pd.read_csv('educ_figdp_1_Data.csv',\n",
    "                  na_values=':',\n",
    "                  usecols=[\"TIME\",\"GEO\",\"Value\"])"
   ]
  },
  {
   "cell_type": "markdown",
   "metadata": {
    "collapsed": true
   },
   "source": [
    "jawaban"
   ]
  },
  {
   "cell_type": "markdown",
   "metadata": {
    "collapsed": true
   },
   "source": [
    "# bit.ly/LinkJawaban2"
   ]
  },
  {
   "cell_type": "code",
   "execution_count": null,
   "metadata": {
    "collapsed": true
   },
   "outputs": [],
   "source": []
  }
 ],
 "metadata": {
  "kernelspec": {
   "display_name": "Python 3",
   "language": "python",
   "name": "python3"
  },
  "language_info": {
   "codemirror_mode": {
    "name": "ipython",
    "version": 3
   },
   "file_extension": ".py",
   "mimetype": "text/x-python",
   "name": "python",
   "nbconvert_exporter": "python",
   "pygments_lexer": "ipython3",
   "version": "3.6.0"
  }
 },
 "nbformat": 4,
 "nbformat_minor": 2
}
